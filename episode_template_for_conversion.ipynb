{
 "cells": [
  {
   "cell_type": "raw",
   "metadata": {},
   "source": [
    "---\n",
    "title: \"Title of Episode\"\n",
    "teaching: 10\n",
    "exercises: 5\n",
    "questions:\n",
    "- \"How to include YAML front matter for episodes in Jupyter Notebook format that will be converted to Markdown so Jekyll renders them?\"\n",
    "- \"How to utilize callouts and other styles available through the Carpentries lesson style file?\"\n",
    "objectives:\n",
    "- \"Describe how to build an episode as a Jupyter Notebook that will subsequently be converted to Markdown.\"\n",
    "keypoints:\n",
    "- \"YAML front matter must be in the first cell, with cell type 'Raw NBConvert'.\"\n",
    "- \"Include questions, objectives, and keypoints in the YAML front matter.\"\n",
    "- \"Callout styles can be used as documented, in a cell of type 'Markdown'.\"\n",
    "authors: [Ciera Martinez, Hilmar Lapp]\n",
    "---"
   ]
  },
  {
   "cell_type": "markdown",
   "metadata": {},
   "source": [
    "> ## Things You'll Need to Complete This Tutorial\n",
    ">\n",
    "> Good pizza, and some time ...\n",
    ">\n",
    "> ### Download Data\n",
    "> Instructions for downloading ...\n",
    "{: .prereq}"
   ]
  },
  {
   "cell_type": "markdown",
   "metadata": {},
   "source": [
    "## Lesson\n",
    "\n",
    "This is where you put your lesson content, which can include additional Markdown and code cells."
   ]
  },
  {
   "cell_type": "markdown",
   "metadata": {},
   "source": [
    "## Exercises\n",
    "\n",
    "This is where you add learner exercises to the lesson.\n",
    "There can be multiple of these throughout the lesson.\n",
    "\n",
    "You can utilize the Carpentries-style callout style for exercises:\n",
    "\n",
    "> ## Exercise 1\n",
    "> Text about how to carry out the exercise ...\n",
    "{: .challenge}"
   ]
  },
  {
   "cell_type": "markdown",
   "metadata": {},
   "source": [
    "You can use all other callout styles as well:\n",
    "\n",
    "> ## Data Tip\n",
    "> This is where you put instructions to clarify a data concept. There can be multiple of these tips throughout the lesson episode.\n",
    "{: .callout}"
   ]
  },
  {
   "cell_type": "markdown",
   "metadata": {},
   "source": [
    "Note that Questions, Objectives, and Key points callout will be rendered automatically from the YAML front matter."
   ]
  },
  {
   "cell_type": "markdown",
   "metadata": {},
   "source": [
    "## How to link images\n",
    "\n",
    "![](./fig/reproLogo-plustext.png)"
   ]
  },
  {
   "cell_type": "markdown",
   "metadata": {},
   "source": [
    "## How to convert to Markdown episode"
   ]
  },
  {
   "cell_type": "code",
   "execution_count": null,
   "metadata": {
    "collapsed": true
   },
   "outputs": [],
   "source": [
    "# Note that for the command below we assume that the Notebook source is in _episodes_notebooks/\n",
    "# (or another directory that is at the same level as _episodes), and that generated plots and\n",
    "# other figures are all to go into the fig/ directory\n",
    "! jupyter nbconvert --NbConvertApp.output_files_dir=../fig --to=markdown --output-dir _episodes NN-episode-name.ipynb"
   ]
  },
  {
   "cell_type": "code",
   "execution_count": null,
   "metadata": {
    "collapsed": true
   },
   "outputs": [],
   "source": []
  }
 ],
 "metadata": {
  "kernelspec": {
   "display_name": "Python 3",
   "language": "python",
   "name": "python3"
  },
  "language_info": {
   "codemirror_mode": {
    "name": "ipython",
    "version": 3
   },
   "file_extension": ".py",
   "mimetype": "text/x-python",
   "name": "python",
   "nbconvert_exporter": "python",
   "pygments_lexer": "ipython3",
   "version": "3.6.3"
  }
 },
 "nbformat": 4,
 "nbformat_minor": 2
}
